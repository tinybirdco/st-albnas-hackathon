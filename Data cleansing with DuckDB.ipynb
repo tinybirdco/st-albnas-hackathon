{
 "cells": [
  {
   "cell_type": "markdown",
   "metadata": {},
   "source": [
    "# Trying to use DuckDB for data import & cleansing\n",
    "### TO DO remove pandas dependency by using duckdb python functions integration"
   ]
  },
  {
   "cell_type": "markdown",
   "metadata": {},
   "source": [
    "## install packages"
   ]
  },
  {
   "cell_type": "code",
   "execution_count": 1,
   "metadata": {},
   "outputs": [
    {
     "name": "stdout",
     "output_type": "stream",
     "text": [
      "Collecting duckdb==0.8.1\n",
      "  Using cached duckdb-0.8.1-cp310-cp310-win_amd64.whl (9.8 MB)\n",
      "Installing collected packages: duckdb\n",
      "Successfully installed duckdb-0.8.1\n",
      "Collecting Levenshtein==0.21.1\n",
      "  Using cached Levenshtein-0.21.1-cp310-cp310-win_amd64.whl (100 kB)\n",
      "Collecting rapidfuzz<4.0.0,>=2.3.0 (from Levenshtein==0.21.1)\n",
      "  Using cached rapidfuzz-3.1.1-cp310-cp310-win_amd64.whl (1.8 MB)\n",
      "Installing collected packages: rapidfuzz, Levenshtein\n",
      "Successfully installed Levenshtein-0.21.1 rapidfuzz-3.1.1\n",
      "Collecting thefuzz==0.19.0\n",
      "  Using cached thefuzz-0.19.0-py2.py3-none-any.whl (17 kB)\n",
      "Installing collected packages: thefuzz\n",
      "Successfully installed thefuzz-0.19.0\n",
      "Collecting pyarrow==12.0.1\n",
      "  Using cached pyarrow-12.0.1-cp310-cp310-win_amd64.whl (21.5 MB)\n",
      "Collecting numpy>=1.16.6 (from pyarrow==12.0.1)\n",
      "  Using cached numpy-1.25.1-cp310-cp310-win_amd64.whl (15.0 MB)\n",
      "Installing collected packages: numpy, pyarrow\n",
      "Successfully installed numpy-1.25.1 pyarrow-12.0.1\n",
      "Collecting pandas==2.0.2\n",
      "  Using cached pandas-2.0.2-cp310-cp310-win_amd64.whl (10.7 MB)\n",
      "Requirement already satisfied: python-dateutil>=2.8.2 in c:\\users\\marcmauri\\source\\repos\\st-albnas-hackathon\\.conda\\lib\\site-packages (from pandas==2.0.2) (2.8.2)\n",
      "Collecting pytz>=2020.1 (from pandas==2.0.2)\n",
      "  Using cached pytz-2023.3-py2.py3-none-any.whl (502 kB)\n",
      "Collecting tzdata>=2022.1 (from pandas==2.0.2)\n",
      "  Using cached tzdata-2023.3-py2.py3-none-any.whl (341 kB)\n",
      "Requirement already satisfied: numpy>=1.21.0 in c:\\users\\marcmauri\\source\\repos\\st-albnas-hackathon\\.conda\\lib\\site-packages (from pandas==2.0.2) (1.25.1)\n",
      "Requirement already satisfied: six>=1.5 in c:\\users\\marcmauri\\source\\repos\\st-albnas-hackathon\\.conda\\lib\\site-packages (from python-dateutil>=2.8.2->pandas==2.0.2) (1.16.0)\n",
      "Installing collected packages: pytz, tzdata, pandas\n",
      "Successfully installed pandas-2.0.2 pytz-2023.3 tzdata-2023.3\n"
     ]
    }
   ],
   "source": [
    "!pip install duckdb==0.8.1\n",
    "!pip install Levenshtein==0.21.1\n",
    "!pip install thefuzz==0.19.0\n",
    "!pip install pyarrow==12.0.1\n",
    "!pip install pandas==2.0.2"
   ]
  },
  {
   "cell_type": "code",
   "execution_count": 2,
   "metadata": {},
   "outputs": [],
   "source": [
    "import duckdb as db\n",
    "import Levenshtein\n",
    "from thefuzz import fuzz\n",
    "import pandas as pd"
   ]
  },
  {
   "cell_type": "code",
   "execution_count": 3,
   "metadata": {},
   "outputs": [],
   "source": [
    "TEXT_TO_EVAL = 'St. Albans'"
   ]
  },
  {
   "cell_type": "markdown",
   "metadata": {},
   "source": [
    "## Data Import"
   ]
  },
  {
   "cell_type": "code",
   "execution_count": 4,
   "metadata": {},
   "outputs": [],
   "source": [
    "#ugly hack to import data from csv - single quotes are not handled properly\n",
    "sql = \"\"\"\n",
    "SELECT \n",
    "    trim(data,'[], ''') as text, false as target\n",
    "FROM read_csv('negatives.txt', delim='\\n,', quote='''', columns={'data': 'VARCHAR'})\n",
    "union all\n",
    "SELECT \n",
    "   trim(data,'[], ''') as text, true as target  \n",
    "FROM read_csv('positives.txt', delim='\\n,', columns={'data': 'VARCHAR'})\n",
    "\"\"\"\n",
    "data = db.query(sql).df()"
   ]
  },
  {
   "cell_type": "markdown",
   "metadata": {},
   "source": [
    "## let's try with duckdb built-in similar to function"
   ]
  },
  {
   "cell_type": "code",
   "execution_count": 5,
   "metadata": {},
   "outputs": [
    {
     "data": {
      "text/plain": [
       "┌───────────────────┐\n",
       "│     accuracy      │\n",
       "│      double       │\n",
       "├───────────────────┤\n",
       "│ 66.66666666666666 │\n",
       "└───────────────────┘"
      ]
     },
     "execution_count": 5,
     "metadata": {},
     "output_type": "execute_result"
    }
   ],
   "source": [
    "sql = f\"\"\"\n",
    "SELECT *, text SIMILAR TO '{TEXT_TO_EVAL}' as similar_to\n",
    "FROM data\n",
    "\"\"\"\n",
    "data = db.query(sql).df()\n",
    "\n",
    "# calc accuracy\n",
    "sql = \"\"\"\n",
    "    SELECT \n",
    "        sum(case when similar_to = target then 1 else 0 end)/count(*) * 100 as accuracy\n",
    "    FROM \n",
    "        data\n",
    "\"\"\"\n",
    "db.query(sql)"
   ]
  },
  {
   "cell_type": "markdown",
   "metadata": {},
   "source": [
    "### 66% is not good enough!"
   ]
  },
  {
   "cell_type": "markdown",
   "metadata": {},
   "source": [
    "## Good old Levenshtein distance"
   ]
  },
  {
   "cell_type": "code",
   "execution_count": 6,
   "metadata": {},
   "outputs": [
    {
     "data": {
      "text/plain": [
       "┌───────────────────┐\n",
       "│     accuracy      │\n",
       "│      double       │\n",
       "├───────────────────┤\n",
       "│ 97.61904761904762 │\n",
       "└───────────────────┘"
      ]
     },
     "execution_count": 6,
     "metadata": {},
     "output_type": "execute_result"
    }
   ],
   "source": [
    "#Calc Levenshtein distance over data set\n",
    "data['levenshtein'] = data['text'].apply(lambda x: Levenshtein.distance(x, TEXT_TO_EVAL))\n",
    "\n",
    "#calc Levenshtein accuracy\n",
    "distance = [3]\n",
    "sql = f\"\"\"\n",
    "    SELECT \n",
    "        sum(case when (levenshtein <=3) = target then 1 else 0 end)/count(*) * 100 as accuracy\n",
    "    FROM \n",
    "        data\n",
    "\"\"\"\n",
    "db.query(sql)"
   ]
  },
  {
   "cell_type": "markdown",
   "metadata": {},
   "source": [
    "### 98% is better"
   ]
  },
  {
   "cell_type": "markdown",
   "metadata": {},
   "source": [
    "## Trying TheFuzz library"
   ]
  },
  {
   "cell_type": "code",
   "execution_count": 7,
   "metadata": {},
   "outputs": [
    {
     "data": {
      "text/plain": [
       "┌──────────┐\n",
       "│ accuracy │\n",
       "│  double  │\n",
       "├──────────┤\n",
       "│    100.0 │\n",
       "└──────────┘"
      ]
     },
     "execution_count": 7,
     "metadata": {},
     "output_type": "execute_result"
    }
   ],
   "source": [
    "data['fuzz_ratio'] = data['text'].apply(lambda x: fuzz.ratio(x, TEXT_TO_EVAL))\n",
    "# calc accuracy\n",
    "sql = f\"\"\"\n",
    "    SELECT \n",
    "        sum(case when (fuzz_ratio >=80) = target then 1 else 0 end)/count(*) * 100 as accuracy\n",
    "    FROM \n",
    "        data\n",
    "\"\"\"\n",
    "db.query(sql)\n"
   ]
  },
  {
   "cell_type": "markdown",
   "metadata": {},
   "source": [
    "### 100% achieved"
   ]
  }
 ],
 "metadata": {
  "kernelspec": {
   "display_name": "kaizenai",
   "language": "python",
   "name": "python3"
  },
  "language_info": {
   "codemirror_mode": {
    "name": "ipython",
    "version": 3
   },
   "file_extension": ".py",
   "mimetype": "text/x-python",
   "name": "python",
   "nbconvert_exporter": "python",
   "pygments_lexer": "ipython3",
   "version": "3.10.12"
  },
  "orig_nbformat": 4
 },
 "nbformat": 4,
 "nbformat_minor": 2
}
